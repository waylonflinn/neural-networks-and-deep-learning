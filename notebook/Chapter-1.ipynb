{
 "metadata": {
  "kernelspec": {
   "display_name": "Python 3",
   "language": "python",
   "name": "python3"
  },
  "language_info": {
   "codemirror_mode": {
    "name": "ipython",
    "version": 3
   },
   "file_extension": ".py",
   "mimetype": "text/x-python",
   "name": "python",
   "nbconvert_exporter": "python",
   "pygments_lexer": "ipython3",
   "version": "3.4.0"
  },
  "name": ""
 },
 "nbformat": 3,
 "nbformat_minor": 0,
 "worksheets": [
  {
   "cells": [
    {
     "cell_type": "heading",
     "level": 1,
     "metadata": {},
     "source": [
      "Chapter 1"
     ]
    },
    {
     "cell_type": "markdown",
     "metadata": {},
     "source": [
      "[Using neural nets to recognize handwritten digits](http://neuralnetworksanddeeplearning.com/chap1.html)"
     ]
    },
    {
     "cell_type": "code",
     "collapsed": true,
     "input": [
      "import numpy as np\n",
      "import random"
     ],
     "language": "python",
     "metadata": {},
     "outputs": [],
     "prompt_number": ""
    },
    {
     "cell_type": "heading",
     "level": 2,
     "metadata": {},
     "source": [
      "Miscellaneous functions"
     ]
    },
    {
     "cell_type": "code",
     "collapsed": true,
     "input": [
      "def sigmoid(z):\n",
      "    return 1.0/(1.0+np.exp(-z))\n",
      "\n",
      "sigmoid_vec = np.vectorize(sigmoid)"
     ],
     "language": "python",
     "metadata": {},
     "outputs": [],
     "prompt_number": ""
    },
    {
     "cell_type": "code",
     "collapsed": true,
     "input": [
      "def sigmoid_prime(z):\n",
      "    \"\"\"Derivative of the sigmoid function.\"\"\"\n",
      "    return sigmoid(z)*(1-sigmoid(z))\n",
      "\n",
      "sigmoid_prime_vec = np.vectorize(sigmoid_prime)"
     ],
     "language": "python",
     "metadata": {},
     "outputs": [],
     "prompt_number": ""
    },
    {
     "cell_type": "heading",
     "level": 2,
     "metadata": {},
     "source": [
      "Network Class"
     ]
    },
    {
     "cell_type": "code",
     "collapsed": false,
     "input": [
      "class Network():\n",
      "    \n",
      "    def __init__(self, sizes):\n",
      "        \"\"\"The list ``sizes`` contains the number of neurons in the\n",
      "        respective layers of the network.  For example, if the list\n",
      "        was [2, 3, 1] then it would be a three-layer network, with the\n",
      "        first layer containing 2 neurons, the second layer 3 neurons,\n",
      "        and the third layer 1 neuron.  The biases and weights for the\n",
      "        network are initialized randomly, using a Gaussian\n",
      "        distribution with mean 0, and variance 1.  Note that the first\n",
      "        layer is assumed to be an input layer, and by convention we\n",
      "        won't set any biases for those neurons, since biases are only\n",
      "        ever used in computing the outputs from later layers.\"\"\"\n",
      "        self.num_layers = len(sizes)\n",
      "        self.sizes = sizes\n",
      "        self.biases = [np.random.randn(y, 1) for y in sizes[1:]]\n",
      "        self.weights = [np.random.randn(y, x)\n",
      "                        for x, y in zip(sizes[:-1], sizes[1:])]\n",
      "\n",
      "\n",
      "    def feedforward(self, a):\n",
      "        \"\"\"Return the output of the network if \"a\" is input.\"\"\"\n",
      "        for b, w in zip(self.biases, self.weights):\n",
      "            a = sigmoid_vec(np.dot(w, a) + b)\n",
      "            \n",
      "        return a\n",
      "    \n",
      "    def SGD(self, training_data, epochs, mini_batch_size, eta,\n",
      "            test_data=None):\n",
      "        \"\"\"Train the neural network using mini-batch stochastic\n",
      "        gradient descent. The \"training data\" is a list of tuples\n",
      "        \"(x, y)\" representing the training inputs and the desired\n",
      "        outputs. The other non-optional parameters are\n",
      "        self-explanatory. If \"test_data\" is provided then the\n",
      "        network will be evaluated against the test data after each\n",
      "        epoch, and partial progress printed out. This is useful for\n",
      "        tracking progress, but slows things down substantially.\"\"\"\n",
      "        \n",
      "        if test_data:\n",
      "            n_test = len(test_data)\n",
      "        \n",
      "        print(n_test)\n",
      "            \n",
      "        n = len(training_data)\n",
      "        \n",
      "        for j in range(epochs):\n",
      "            random.shuffle(training_data)\n",
      "            mini_batches = [\n",
      "                training_data[k:k+mini_batch_size]\n",
      "                for k in range(0, n, mini_batch_size)]\n",
      "            \n",
      "            for mini_batch in mini_batches:\n",
      "                self.update_mini_batch(mini_batch, eta)\n",
      "                \n",
      "            if test_data:\n",
      "                print(\"Epoch {0}: {1} / {2}\".format(\n",
      "                        j, self.evaluate(test_data), n_test))\n",
      "            else:\n",
      "                print(\"Epoch {0} complete\".format(j))\n",
      "                \n",
      "    def update_mini_batch(self, mini_batch, eta):\n",
      "        \"\"\"Update the network's weights and biases by applying\n",
      "        gradient descent using backpropagation to a single mini batch.\n",
      "        The \"mini_batch\" is a list of tuples \"(x, y)\", and \"eta\"\n",
      "        is the learning rate.\"\"\"\n",
      "        \n",
      "        nabla_b = [np.zeros(b.shape) for b in self.biases]\n",
      "        nabla_w = [np.zeros(w.shape) for w in self.weights]\n",
      "        \n",
      "        for x, y in mini_batch:\n",
      "            delta_nabla_b, delta_nabla_w = self.backprop(x, y)\n",
      "            nabla_b = [nb+dnb for nb, dnb in zip(nabla_b, delta_nabla_b)]\n",
      "            nabla_w = [nw+dnw for nw, dnw in zip(nabla_w, delta_nabla_w)]\n",
      "            \n",
      "        self.weights = [w-(eta/len(mini_batch))*nw\n",
      "                        for w, nw in zip(self.weights, nabla_w)]\n",
      "        \n",
      "        self.biases = [b-(eta/len(mini_batch))*nb\n",
      "                       for b, nb in zip(self.biases, nabla_b)]\n",
      "        \n",
      "    def backprop(self, x, y):\n",
      "        \"\"\"Return a tuple ``(nabla_b, nabla_w)`` representing the\n",
      "        gradient for the cost function C_x.  ``nabla_b`` and\n",
      "        ``nabla_w`` are layer-by-layer lists of numpy arrays, similar\n",
      "        to ``self.biases`` and ``self.weights``.\"\"\"\n",
      "        \n",
      "        nabla_b = [np.zeros(b.shape) for b in self.biases]\n",
      "        nabla_w = [np.zeros(w.shape) for w in self.weights]\n",
      "        \n",
      "        # feedforward\n",
      "        activation = x\n",
      "        activations = [x] # list to store all the activations, layer by layer\n",
      "        zs = [] # list to store all the z vectors, layer by layer\n",
      "        \n",
      "        for b, w in zip(self.biases, self.weights):\n",
      "            z = np.dot(w, activation)+b\n",
      "            zs.append(z)\n",
      "            activation = sigmoid_vec(z)\n",
      "            activations.append(activation)\n",
      "            \n",
      "        # backward pass\n",
      "        delta = self.cost_derivative(activations[-1], y) * \\\n",
      "            sigmoid_prime_vec(zs[-1])\n",
      "            \n",
      "        nabla_b[-1] = delta\n",
      "        nabla_w[-1] = np.dot(delta, activations[-2].transpose())\n",
      "        \n",
      "        # Note that the variable l in the loop below is used a little\n",
      "        # differently to the notation in Chapter 2 of the book.  Here,\n",
      "        # l = 1 means the last layer of neurons, l = 2 is the\n",
      "        # second-last layer, and so on.  It's a renumbering of the\n",
      "        # scheme in the book, used here to take advantage of the fact\n",
      "        # that Python can use negative indices in lists.\n",
      "        for l in range(2, self.num_layers):\n",
      "            z = zs[-l]\n",
      "            spv = sigmoid_prime_vec(z)\n",
      "            delta = np.dot(self.weights[-l+1].transpose(), delta) * spv\n",
      "            nabla_b[-l] = delta\n",
      "            nabla_w[-l] = np.dot(delta, activations[-l-1].transpose())\n",
      "            \n",
      "        return (nabla_b, nabla_w)\n",
      "    \n",
      "    def evaluate(self, test_data):\n",
      "        \"\"\"Return the number of test inputs for which the neural\n",
      "        network outputs the correct result. Note that the neural\n",
      "        network's output is assumed to be the index of whichever\n",
      "        neuron in the final layer has the highest activation.\"\"\"\n",
      "        \n",
      "        test_results = [(np.argmax(self.feedforward(x)), y) \n",
      "                        for (x, y) in test_data]\n",
      "        \n",
      "        return sum(int(x == y) for (x, y) in test_results)\n",
      "        \n",
      "    def cost_derivative(self, output_activations, y):\n",
      "        \"\"\"Return the vector of partial derivatives \\partial C_x /\n",
      "        \\partial a for the output activations.\"\"\"\n",
      "        \n",
      "        return (output_activations-y) "
     ],
     "language": "python",
     "metadata": {},
     "outputs": [],
     "prompt_number": ""
    },
    {
     "cell_type": "code",
     "collapsed": false,
     "input": [
      "net = Network([2, 3, 1])"
     ],
     "language": "python",
     "metadata": {},
     "outputs": [],
     "prompt_number": ""
    },
    {
     "cell_type": "code",
     "collapsed": false,
     "input": [
      "net.feedforward([1, 2])"
     ],
     "language": "python",
     "metadata": {},
     "outputs": [],
     "prompt_number": ""
    },
    {
     "cell_type": "heading",
     "level": 2,
     "metadata": {},
     "source": [
      "Load Data"
     ]
    },
    {
     "cell_type": "code",
     "collapsed": true,
     "input": [
      "import sys\n",
      "sys.path.append(\"../src\")"
     ],
     "language": "python",
     "metadata": {},
     "outputs": [],
     "prompt_number": ""
    },
    {
     "cell_type": "code",
     "collapsed": false,
     "input": [
      "import mnist_loader"
     ],
     "language": "python",
     "metadata": {},
     "outputs": [],
     "prompt_number": ""
    },
    {
     "cell_type": "code",
     "collapsed": false,
     "input": [
      "training_data, validation_data, test_data = mnist_loader.load_data_wrapper()\n",
      "training_data = list(training_data)\n",
      "validation_data = list(validation_data)\n",
      "test_data = list(test_data)"
     ],
     "language": "python",
     "metadata": {},
     "outputs": [],
     "prompt_number": ""
    },
    {
     "cell_type": "code",
     "collapsed": true,
     "input": [
      "net = Network([784, 30, 10])"
     ],
     "language": "python",
     "metadata": {},
     "outputs": [],
     "prompt_number": ""
    },
    {
     "cell_type": "code",
     "collapsed": false,
     "input": [
      "net.SGD(list(training_data), 30, 10, 3.0, test_data=list(test_data))"
     ],
     "language": "python",
     "metadata": {},
     "outputs": [],
     "prompt_number": ""
    },
    {
     "cell_type": "code",
     "collapsed": true,
     "input": [],
     "language": "python",
     "metadata": {},
     "outputs": [],
     "prompt_number": ""
    }
   ],
   "metadata": {}
  }
 ]
}